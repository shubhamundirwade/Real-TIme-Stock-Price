{
 "cells": [
  {
   "cell_type": "code",
   "execution_count": 1,
   "metadata": {},
   "outputs": [],
   "source": [
    "# !pip install pytube"
   ]
  },
  {
   "cell_type": "code",
   "execution_count": 2,
   "metadata": {},
   "outputs": [],
   "source": [
    "from pytube import YouTube"
   ]
  },
  {
   "cell_type": "code",
   "execution_count": 3,
   "metadata": {},
   "outputs": [],
   "source": [
    "link = input(\"Enter Link of Youtube Video: \")\n",
    "yt = YouTube(link)"
   ]
  },
  {
   "cell_type": "code",
   "execution_count": 5,
   "metadata": {},
   "outputs": [
    {
     "name": "stdout",
     "output_type": "stream",
     "text": [
      "\n",
      "Title:  Dua Lipa - Don't Start Now (Live in LA, 2019)\n",
      "\n",
      "Views:  188405338\n",
      "\n",
      "Duration: 342\n",
      "\n",
      "Description:  Dua Lipa - Don't Start Now (Live in LA, 2019)\n",
      "\n",
      "Don't Start Now is taken from Dua Lipa's second studio album 'Future Nostalgia' released in 2020, which featured the hit singles 'Don't Start Now', 'Physical', 'Break My Heart', 'Hallucinate' & 'Levitating'\n",
      "\n",
      "Get the album Future Nostalgia : https://dualipa.co/futurenostalgia\n",
      "\n",
      "Subscribe to the Dua Lipa channel for all the best and latest official music videos, behind the scenes and live performances. \n",
      "https://www.youtube.com/channel/UC-J-KZfRV8c13fOCkhXdLiQ?sub_confirmation=1\n",
      "\n",
      "See more official videos from Dua Lipa here:\n",
      "https://www.youtube.com/playlist?list=PLNrotoZZ8BaoXT_LJuwEyESQlctWNDCwD\n",
      "\n",
      "Listen to more from the album 'Future Nostalgia' :\n",
      "https://www.youtube.com/playlist?list=PLNrotoZZ8BaouNABcO_A9Xkn_Nkz0PT11\n",
      "\n",
      "Follow Dua Lipa:\n",
      "Instagram:  https://dualipa.co/instagram\n",
      "Facebook: http://dualipa.co/facebook\n",
      "TikTok: https://www.tiktok.com/@dualipaofficial\n",
      "Twitter: http://dualipa.co/twitter\n",
      "YouTube: https://dualipa.co/youtube\n",
      "\n",
      "Lyrics:\n",
      "If you don't wanna see me\n",
      "\n",
      "Did a full 180, crazy\n",
      "Thinking 'bout the way I was\n",
      "Did the heartbreak change me? Maybe\n",
      "But look at where I ended up\n",
      "I'm all good already\n",
      "So moved on, it's scary\n",
      "I'm not where you left me at all, so\n",
      "\n",
      "If you don't wanna see me dancing with somebody\n",
      "If you wanna believe that anything could stop me\n",
      "\n",
      "Don't show up, don't come out\n",
      "Don't start caring about me now\n",
      "Walk away, you know how\n",
      "Don't start caring about me now\n",
      "\n",
      "Aren't you the guy who tried to\n",
      "Hurt me with the word \"goodbye\"?\n",
      "Though it took some time to survive you\n",
      "I'm better on the other side\n",
      "I'm all good already\n",
      "So moved on, it's scary\n",
      "I'm not where you left me at all, so\n",
      "\n",
      "If you don't wanna see me dancing with somebody\n",
      "If you wanna believe that anything could stop me\n",
      "\n",
      "Don't show up, don't come out\n",
      "Don't start caring about me now\n",
      "Walk away, you know how\n",
      "Don't start caring about me now ('bout me now, 'bout me)\n",
      "\n",
      "Oh, oh\n",
      "Don't come out, out, out\n",
      "Don't show up, up, up\n",
      "Don't start now (oh)\n",
      "Oh, oh\n",
      "Don't come out, out\n",
      "I'm not where you left me at all, so\n",
      "\n",
      "If you don't wanna see me dancing with somebody\n",
      "If you wanna believe that anything could stop me\n",
      "\n",
      "Don't show up (don't show up), don't come out (don't come out)\n",
      "Don't start caring about me now ('bout me now)\n",
      "Walk away (walk away), you know how (you know how)\n",
      "Don't start caring about me now (so)\n",
      "\n",
      "Oh, oh\n",
      "Don't come out, out, out\n",
      "Don't show up, up, up\n",
      "Walk away, walk away (so)\n",
      "Oh, oh\n",
      "Don't come out, out, out\n",
      "Don't show up, up, up\n",
      "Walk away, walk away, oh\n",
      "\n",
      "About Dua Lipa:\n",
      "Born and raised in London to Kosovar-Albanian parents Dua Lipa signed to Warner Records in 2015, releasing her self titled debut in 2017 which featured the hit singles, 'Be The One', 'IDGAF', 'Hotter Than Hell' & her first UK #1 hit 'New Rules'. \n",
      "\n",
      "Critical success soon followed as Dua Lipa picked up Brit Awards for 'Best Female Solo Artist' and 'Best British Breakthrough Act' as well as Grammy Awards for 'Best New Artist' and 'Best Dance Recording' for the track 'Electricity' in collaboration with Silk City.\n",
      "\n",
      "Her second internationally acclaimed studio album 'Future Nostalgia' was released in 2020 and included the hit singles 'Don't Start Now, 'Break My Heart', 'Hallucinate' and 'Levitating', with the remix album 'Club Future Nostalgia' following shortly after featuring guest appearances from 'Blackpink', 'Missy Elliott', 'Madonna' and 'Gwen Stefani'. \n",
      "\n",
      "#DuaLipa #DontStartNow #FutureNostalgia #DuaLive\n",
      "\n",
      "ratings None\n"
     ]
    }
   ],
   "source": [
    "# To print title\n",
    "print(\"\\nTitle: \", yt.title)\n",
    "\n",
    "# To get number of views\n",
    "print('\\nViews: ', yt.views)\n",
    "\n",
    "# To get the length of video\n",
    "print(\"\\nDuration:\", yt.length)\n",
    "\n",
    "# To get description\n",
    "print(\"\\nDescription: \", yt.description)\n",
    "\n",
    "# To get rating\n",
    "print(\"\\nratings\", yt.rating)"
   ]
  },
  {
   "cell_type": "markdown",
   "metadata": {},
   "source": [
    "Downloading Youtute Videos"
   ]
  },
  {
   "cell_type": "code",
   "execution_count": 6,
   "metadata": {},
   "outputs": [
    {
     "name": "stdout",
     "output_type": "stream",
     "text": [
      "Download completed!!\n"
     ]
    }
   ],
   "source": [
    "stream = yt.streams.get_highest_resolution()\n",
    "stream.download()\n",
    "print(\"Download completed!!\")"
   ]
  }
 ],
 "metadata": {
  "interpreter": {
   "hash": "7ed6fd353334288ba41d65fffa847485dc25a2c09fb69a2f9e6c04bfa5c4f800"
  },
  "kernelspec": {
   "display_name": "Python 3.8.12 ('base')",
   "language": "python",
   "name": "python3"
  },
  "language_info": {
   "codemirror_mode": {
    "name": "ipython",
    "version": 3
   },
   "file_extension": ".py",
   "mimetype": "text/x-python",
   "name": "python",
   "nbconvert_exporter": "python",
   "pygments_lexer": "ipython3",
   "version": "3.8.12"
  },
  "orig_nbformat": 4
 },
 "nbformat": 4,
 "nbformat_minor": 2
}
